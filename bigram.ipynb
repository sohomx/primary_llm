{
 "cells": [
  {
   "cell_type": "code",
   "execution_count": 19,
   "metadata": {},
   "outputs": [
    {
     "name": "stdout",
     "output_type": "stream",
     "text": [
      "cpu\n"
     ]
    }
   ],
   "source": [
    "import torch \n",
    "import torch.nn as nn\n",
    "from torch.nn import functional as F\n",
    "import numpy as np\n",
    "import time\n",
    "\n",
    "device = 'cuda' if torch.cuda.is_available() else 'cpu'\n",
    "print(device)\n",
    "\n"
   ]
  },
  {
   "cell_type": "code",
   "execution_count": 20,
   "metadata": {},
   "outputs": [
    {
     "name": "stdout",
     "output_type": "stream",
     "text": [
      "['\\n', ' ', '!', '\"', '&', \"'\", '(', ')', '*', ',', '-', '.', '0', '1', '2', '3', '4', '5', '6', '7', '8', '9', ':', ';', '?', 'A', 'B', 'C', 'D', 'E', 'F', 'G', 'H', 'I', 'J', 'K', 'L', 'M', 'N', 'O', 'P', 'Q', 'R', 'S', 'T', 'U', 'V', 'W', 'X', 'Y', 'Z', '[', ']', '_', 'a', 'b', 'c', 'd', 'e', 'f', 'g', 'h', 'i', 'j', 'k', 'l', 'm', 'n', 'o', 'p', 'q', 'r', 's', 't', 'u', 'v', 'w', 'x', 'y', 'z', '\\ufeff']\n"
     ]
    }
   ],
   "source": [
    "with open('wizard_of_oz.txt', 'r', encoding='utf-8') as f:\n",
    "    text = f.read()\n",
    "chars = sorted(set(text))\n",
    "print(chars)\n",
    "vocab_size = len(chars)"
   ]
  },
  {
   "cell_type": "code",
   "execution_count": 21,
   "metadata": {},
   "outputs": [
    {
     "name": "stdout",
     "output_type": "stream",
     "text": [
      "tensor([80,  1, 28, 39, 42, 39, 44, 32, 49,  1, 25, 38, 28,  1, 44, 32, 29,  1,\n",
      "        47, 33, 50, 25, 42, 28,  1, 33, 38,  1, 39, 50,  0,  0,  1,  1, 26, 49,\n",
      "         0,  0,  1,  1, 36, 11,  1, 30, 42, 25, 38, 35,  1, 26, 25, 45, 37,  0,\n",
      "         0,  1,  1, 25, 45, 44, 32, 39, 42,  1, 39, 30,  1, 44, 32, 29,  1, 47,\n",
      "        33, 50, 25, 42, 28,  1, 39, 30,  1, 39, 50,  9,  1, 44, 32, 29,  1, 36,\n",
      "        25, 38, 28,  1, 39, 30,  1, 39, 50,  9])\n"
     ]
    }
   ],
   "source": [
    "string_to_int = { ch:i for i, ch in enumerate(chars) }\n",
    "int_to_string = { i:ch for i, ch in enumerate(chars) }\n",
    "encode = lambda s: [string_to_int[c] for c in s]\n",
    "decode = lambda l: ''.join([int_to_string[i] for i in l])\n",
    "\n",
    "data = torch.tensor(encode(text), dtype = torch.long)\n",
    "print(data[:100])"
   ]
  },
  {
   "cell_type": "code",
   "execution_count": 22,
   "metadata": {},
   "outputs": [
    {
     "name": "stdout",
     "output_type": "stream",
     "text": [
      "inputs: \n",
      "tensor([[58, 71,  2,  3,  1, 57, 58, 56],\n",
      "        [ 1, 28, 68, 71, 68, 73, 61, 78],\n",
      "        [58, 67,  0, 58, 77, 54, 66, 62],\n",
      "        [58,  1, 61, 62, 66,  1, 67, 62]])\n",
      "targets: \n",
      "tensor([[71,  2,  3,  1, 57, 58, 56, 65],\n",
      "        [28, 68, 71, 68, 73, 61, 78, 11],\n",
      "        [67,  0, 58, 77, 54, 66, 62, 67],\n",
      "        [ 1, 61, 62, 66,  1, 67, 62, 67]])\n"
     ]
    }
   ],
   "source": [
    "n = int(0.8*len(data))\n",
    "train_data = data[:n]\n",
    "val_data = data[n: ]\n",
    "\n",
    "def get_batch(split):\n",
    "    data = train_data if split == 'train' else val_data\n",
    "    ix = torch.randint(len(data) - block_size, (batch_size,))\n",
    "    x = torch.stack([data[i:i+block_size] for i in ix])\n",
    "    y = torch.stack([data[i+1:i+block_size+1] for i in ix])\n",
    "    x, y = x.to(device), y.to(device)\n",
    "    return x, y\n",
    "\n",
    "x, y = get_batch('train')\n",
    "print('inputs: ')\n",
    "print(x)\n",
    "print('targets: ')\n",
    "print(y)"
   ]
  },
  {
   "cell_type": "code",
   "execution_count": 23,
   "metadata": {},
   "outputs": [],
   "source": [
    "@torch.no_grad()\n",
    "def estimate_loss():\n",
    "    out = {}\n",
    "    model.eval()\n",
    "    for split in ['train', 'val']:\n",
    "        losses = torch.zeros(eval_iters)\n",
    "        for k in range(eval_iters):\n",
    "            X, Y = get_batch(split)\n",
    "            logits, loss = model(X, Y)\n",
    "            losses[k] = loss.item()\n",
    "        out[split] = losses.mean()\n",
    "    model.train()\n",
    "    return out\n",
    "    "
   ]
  },
  {
   "cell_type": "code",
   "execution_count": 24,
   "metadata": {},
   "outputs": [
    {
     "name": "stdout",
     "output_type": "stream",
     "text": [
      "when input is tensor([80]) target is tensor(1)\n",
      "when input is tensor([80,  1]) target is tensor(28)\n",
      "when input is tensor([80,  1, 28]) target is tensor(39)\n",
      "when input is tensor([80,  1, 28, 39]) target is tensor(42)\n",
      "when input is tensor([80,  1, 28, 39, 42]) target is tensor(39)\n",
      "when input is tensor([80,  1, 28, 39, 42, 39]) target is tensor(44)\n",
      "when input is tensor([80,  1, 28, 39, 42, 39, 44]) target is tensor(32)\n",
      "when input is tensor([80,  1, 28, 39, 42, 39, 44, 32]) target is tensor(49)\n"
     ]
    }
   ],
   "source": [
    "x = train_data[:block_size]\n",
    "y = train_data[1:block_size + 1]\n",
    "\n",
    "for t in range(block_size):\n",
    "    context = x[:t+1]\n",
    "    target = y[t]\n",
    "    print('when input is', context, 'target is', target)"
   ]
  },
  {
   "cell_type": "code",
   "execution_count": 25,
   "metadata": {},
   "outputs": [
    {
     "name": "stdout",
     "output_type": "stream",
     "text": [
      "\n",
      "tr)U00NN_&0eFqJJrF[sQ;sOS7j\"QF[;NG-0o4.MTtChu30\"﻿E- 1[Mh;zCl9CyU7o1]Gq2yuKVE )KQh;:'NG9P!EG.eoT*orv:J4!EG6L'k\"**33Dd &rvLF]GhQNXO\n",
      "poE,yjv_;*:fz9t!Jm﻿VlQcI2J;tckfgDQs?XsEEc:)Gq;.DdKMNs3CKtFjvVIWVr-ua'tE:OV1Dk[[﻿Fq1H8c_B_qm_\n",
      "5nFU6-zCQ2v:Ctt,_NfVlglG:;JzHl.w*\"*ZjF﻿Y\n",
      "M0inpRmUKzk[jYx1]7Jx:]R14yHEV(:B﻿;)c,TVlkTVlEPn\n",
      "Y-_;:;g]Vd(of\"k[;?e&ULv:I-ywOTBloV1\n",
      "'\n",
      "lg_4z7i-lWv3t yU6L3D481\"]lg*c\n",
      "IU6J5C4aD[jxlWeqYYNGie,\"[Y.e-]x'& (,pljAwXNd[ULbQ[XNUI_V]]l0HzCysfW*lh0;58(K:(Mv!IGtR)D7-IExWVRSC﻿;﻿ij!IwF0(k[MNZiQLQi50\n"
     ]
    }
   ],
   "source": [
    "import torch\n",
    "import torch.nn as nn  # Corrected import statement\n",
    "\n",
    "class BigramLanguageModel(nn.Module):  # Corrected 'Module' capitalization\n",
    "    def __init__(self, vocab_size):\n",
    "        super().__init__()\n",
    "        self.token_embedding_table = nn.Embedding(vocab_size, vocab_size)  # Fixed '==' to '='\n",
    "\n",
    "    def forward(self, index, targets=None):\n",
    "        logits = self.token_embedding_table(index)\n",
    "\n",
    "        if targets is None: \n",
    "            loss = None\n",
    "        else:\n",
    "            B, T, C = logits.shape\n",
    "            logits = logits.view(B*T, C)\n",
    "            targets = targets.view(B*T)\n",
    "            loss = F.cross_entropy(logits, targets)\n",
    "            \n",
    "        return logits, loss\n",
    "\n",
    "    def generate(self, index, max_new_tokens):\n",
    "        # index if (B, T) array of indices in the current context\n",
    "        for _ in range(max_new_tokens):\n",
    "            # get the predictions\n",
    "            logits, loss = self.forward(index)\n",
    "            # focus only on the last time step\n",
    "            logits = logits[:, -1, :] # becomes (B, C)\n",
    "            # apply softmax to get probabilities\n",
    "            probs = F.softmax(logits, dim=-1) # (B, C)\n",
    "            # sample from the distribution\n",
    "            index_next = torch.multinomial(probs, num_samples=1) # (B, 1)\n",
    "            # append sampled index to the running sequence\n",
    "            index = torch.cat((index, index_next), dim=1) # (B, T+1)\n",
    "        return index\n",
    "\n",
    "model = BigramLanguageModel(vocab_size)\n",
    "m = model.to(device)\n",
    "\n",
    "context = torch.zeros((1,1), dtype=torch.long, device=device)\n",
    "generated_chars  = decode(m.generate(context, max_new_tokens = 500)[0].tolist())\n",
    "print(generated_chars)\n",
    "    \n",
    "        "
   ]
  },
  {
   "cell_type": "code",
   "execution_count": 26,
   "metadata": {},
   "outputs": [
    {
     "name": "stdout",
     "output_type": "stream",
     "text": [
      "step: 0, train loss: 4.8027, val loss: 4.8295\n",
      "step: 250, train loss: 4.7481, val loss: 4.7384\n",
      "step: 500, train loss: 4.6837, val loss: 4.6859\n",
      "step: 750, train loss: 4.6258, val loss: 4.6222\n",
      "Final Loss: 4.485805988311768\n"
     ]
    }
   ],
   "source": [
    "# create a Pytorch optimizer\n",
    "optimizer = torch.optim.AdamW(model.parameters(), lr=learning_rate)\n",
    "\n",
    "for iter in range(max_iters):\n",
    "    if iter % eval_iters == 0:\n",
    "        losses = estimate_loss()\n",
    "        print(f\"step: {iter}, train loss: {losses['train']:.4f}, val loss: {losses['val']:.4f}\")\n",
    "\n",
    "    # sample a batch of data \n",
    "    xb, yb = get_batch('train')\n",
    "\n",
    "    # evaluate the loss\n",
    "    logits, loss = model.forward(xb, yb)\n",
    "    optimizer.zero_grad(set_to_none=True)\n",
    "    loss.backward()\n",
    "    optimizer.step()\n",
    "\n",
    "# After the training loop is complete, print the final loss\n",
    "print(\"Final Loss:\", loss.item())\n"
   ]
  },
  {
   "cell_type": "code",
   "execution_count": 27,
   "metadata": {},
   "outputs": [
    {
     "name": "stdout",
     "output_type": "stream",
     "text": [
      "\n",
      "14ZuFobukaQ[RkL:Yesm\"w* SF\n",
      "pmQFHc;&I-WNqZ_.*\"I_GyfVUXhbQeVt 1_W.IT:OSatR4QnMvA'39]2w.mIM!eB,UKvAMiGCWlWecR2?F﻿5)W0p?rSmaQj6z3 4QVUCmYZtR5lMNvF:4.uh8 ;J'(1[B[f&AfqqStKGfoYnAPXiLpZ2?TV,jIZ)UOcY-WtqmM,nhXNA'iPR1m3F\n",
      "IK6S2Aae-IrzC﻿;ttRZjet?z7-tRStr4YRQvGa_PRG﻿_6w_m(]]'mT\" mEuW]0Zn-Rt,*[MNGQnf9HJzCr:0UR﻿_!egqVl0xfUoV:o3F[xpkEK]auNMKvN5TQqO8(i&Bm-yFvkTF\n",
      "9R[3:uKr\n",
      "K)z2d3gFOMka*o:L289uK.;Zo:Ef'iEc0nNAKQRGXNd(vAKv6:v*oK.uC)TrMcT(ioAbFL)V;(kqgw*:Im7UMn_*DY;CW﻿Sj?tTE.mHUI-YajVloHB[LCmmuCnkrCEv)ef[CyneB1plKrO\n"
     ]
    }
   ],
   "source": [
    "context = torch.zeros((1,1), dtype=torch.long, device=device)\n",
    "generated_chars = decode(m.generate(context, max_new_tokens = 500)[0].tolist())\n",
    "print(generated_chars)"
   ]
  },
  {
   "cell_type": "code",
   "execution_count": 28,
   "metadata": {},
   "outputs": [
    {
     "name": "stdout",
     "output_type": "stream",
     "text": [
      "tensor([[4.8510e-01, 5.1724e-01, 8.5226e-01, 2.8527e-01, 2.4550e-01, 4.9355e-01,\n",
      "         1.2512e-01, 8.6134e-01, 8.1473e-01, 9.7961e-01],\n",
      "        [2.8156e-01, 1.1220e-01, 8.7697e-01, 5.1171e-01, 7.1902e-02, 9.9586e-01,\n",
      "         1.4384e-01, 9.7513e-01, 6.8499e-02, 5.1727e-01],\n",
      "        [8.8060e-01, 5.6563e-01, 5.1454e-01, 2.5161e-02, 1.3449e-01, 1.2796e-01,\n",
      "         9.5049e-01, 9.4436e-01, 7.7836e-01, 4.3470e-01],\n",
      "        [1.2987e-01, 7.1475e-01, 1.0673e-01, 5.6218e-01, 6.1190e-01, 9.8412e-01,\n",
      "         1.8980e-01, 7.3448e-01, 2.5681e-01, 3.5614e-01],\n",
      "        [6.4268e-01, 9.6257e-01, 4.5303e-01, 9.6053e-01, 5.6976e-01, 7.4541e-01,\n",
      "         9.6330e-01, 2.4614e-01, 2.0450e-01, 3.0819e-01],\n",
      "        [9.2029e-02, 9.3134e-01, 2.4367e-01, 8.9908e-01, 9.9421e-01, 9.6307e-01,\n",
      "         7.6896e-01, 2.8176e-01, 8.9815e-01, 5.0224e-01],\n",
      "        [1.0308e-01, 5.9224e-01, 2.3607e-01, 9.6122e-01, 7.3988e-01, 5.8066e-01,\n",
      "         8.7374e-01, 6.0019e-01, 9.0173e-01, 4.5659e-01],\n",
      "        [2.7006e-01, 7.7029e-01, 2.6595e-01, 1.6595e-01, 3.4367e-02, 4.8747e-01,\n",
      "         5.5899e-01, 9.4492e-01, 4.7781e-01, 8.1251e-01],\n",
      "        [3.0130e-01, 2.7330e-01, 9.8564e-01, 4.6944e-01, 6.1266e-02, 6.1319e-01,\n",
      "         8.0087e-01, 7.6529e-01, 3.7124e-01, 2.2001e-01],\n",
      "        [9.2064e-01, 6.0959e-01, 1.2860e-01, 4.2773e-01, 1.6972e-01, 9.1064e-01,\n",
      "         6.0348e-01, 3.1674e-01, 5.2617e-01, 7.8211e-01],\n",
      "        [1.7121e-02, 3.4553e-02, 4.1826e-01, 2.1992e-01, 8.5864e-01, 9.3799e-01,\n",
      "         3.1005e-01, 1.6390e-01, 6.7305e-01, 7.2278e-01],\n",
      "        [9.9929e-01, 9.1443e-01, 3.8377e-01, 3.4279e-01, 8.8739e-01, 2.8214e-01,\n",
      "         3.9118e-01, 2.4421e-01, 5.6857e-01, 4.3900e-01],\n",
      "        [5.6632e-01, 8.1012e-01, 2.3911e-01, 9.9480e-01, 6.3787e-01, 6.4399e-01,\n",
      "         3.9390e-01, 4.3507e-01, 7.9037e-01, 4.2033e-01],\n",
      "        [9.6292e-01, 1.2748e-01, 7.6853e-01, 4.1912e-01, 8.1982e-01, 3.0211e-01,\n",
      "         8.9389e-01, 5.7236e-02, 6.6711e-01, 8.3225e-01],\n",
      "        [2.8095e-01, 5.7467e-01, 1.1435e-01, 3.5432e-01, 9.9131e-01, 4.8308e-01,\n",
      "         5.5442e-01, 6.4707e-01, 8.9196e-01, 4.2143e-01],\n",
      "        [8.2363e-01, 5.9563e-01, 1.4998e-01, 3.8454e-01, 8.6387e-01, 5.0937e-01,\n",
      "         7.7231e-01, 9.6411e-01, 8.1585e-01, 5.8760e-01],\n",
      "        [3.8377e-01, 1.6168e-01, 4.4617e-01, 7.6880e-01, 4.1943e-01, 4.9349e-02,\n",
      "         3.4984e-01, 2.2988e-02, 4.9028e-02, 9.3938e-01],\n",
      "        [7.7950e-01, 9.2430e-01, 8.4980e-01, 8.6064e-01, 2.4739e-01, 6.7902e-01,\n",
      "         9.7920e-01, 3.9617e-01, 3.2624e-01, 9.2471e-01],\n",
      "        [1.0848e-05, 8.3203e-01, 1.7006e-01, 8.8458e-01, 2.2374e-01, 5.8339e-01,\n",
      "         8.3705e-01, 9.3980e-01, 2.6011e-01, 2.1190e-01],\n",
      "        [6.9702e-01, 3.7498e-01, 1.2570e-01, 8.0881e-01, 2.4310e-01, 2.5628e-01,\n",
      "         7.0580e-01, 4.6558e-01, 5.7285e-01, 1.5918e-01],\n",
      "        [6.9203e-01, 9.0604e-01, 3.9324e-01, 5.7933e-01, 3.7267e-01, 5.3194e-01,\n",
      "         2.4156e-01, 3.6300e-01, 7.6760e-01, 4.2701e-03],\n",
      "        [8.1873e-01, 6.5586e-01, 2.7371e-01, 7.1221e-01, 7.4869e-01, 2.3034e-01,\n",
      "         1.4322e-01, 7.9248e-01, 2.5064e-01, 9.4980e-01],\n",
      "        [1.8076e-01, 1.5367e-01, 8.3254e-01, 5.0272e-01, 9.5042e-01, 7.6672e-01,\n",
      "         1.1134e-01, 8.0332e-01, 4.1250e-01, 1.0386e-01],\n",
      "        [3.8216e-01, 2.6887e-01, 6.1611e-01, 9.9770e-01, 7.4442e-01, 9.1422e-01,\n",
      "         5.5355e-01, 6.6907e-02, 2.2111e-01, 5.5119e-01],\n",
      "        [8.8163e-01, 3.1367e-01, 7.0272e-01, 9.9169e-01, 9.6363e-02, 2.7714e-01,\n",
      "         2.8629e-01, 8.2820e-01, 8.5343e-01, 5.3953e-01],\n",
      "        [2.5000e-01, 2.6994e-01, 2.2413e-01, 2.9434e-01, 1.7780e-01, 6.1329e-02,\n",
      "         2.5827e-01, 4.7163e-01, 7.0854e-02, 2.1566e-02],\n",
      "        [6.3803e-01, 2.7977e-02, 8.6947e-01, 3.5642e-01, 2.6251e-01, 4.2027e-01,\n",
      "         2.6623e-01, 6.0856e-01, 3.8419e-01, 7.5314e-01],\n",
      "        [7.8482e-01, 9.6856e-01, 3.5534e-01, 6.6411e-01, 5.9292e-01, 1.1354e-01,\n",
      "         1.1805e-01, 5.8812e-01, 3.1033e-01, 6.0868e-01],\n",
      "        [8.3351e-01, 3.9054e-01, 8.8528e-01, 2.8742e-01, 1.8265e-01, 8.0996e-01,\n",
      "         9.0129e-01, 1.3598e-01, 4.9009e-02, 9.8692e-01],\n",
      "        [8.6397e-01, 9.2489e-01, 3.8517e-01, 2.4577e-01, 6.1916e-02, 5.7434e-01,\n",
      "         3.9274e-01, 5.7205e-01, 1.0233e-01, 6.9129e-01],\n",
      "        [3.3996e-01, 9.5294e-01, 4.0845e-01, 1.1227e-01, 7.4197e-01, 6.0027e-02,\n",
      "         7.2237e-01, 7.6035e-01, 8.3486e-01, 4.4410e-01],\n",
      "        [7.1856e-01, 2.0503e-01, 4.7167e-01, 6.7983e-01, 3.7001e-02, 7.5473e-01,\n",
      "         5.9706e-01, 9.7401e-01, 8.5484e-02, 4.6969e-01]])\n"
     ]
    },
    {
     "ename": "IndexError",
     "evalue": "too many indices for tensor of dimension 2",
     "output_type": "error",
     "traceback": [
      "\u001b[0;31m---------------------------------------------------------------------------\u001b[0m",
      "\u001b[0;31mIndexError\u001b[0m                                Traceback (most recent call last)",
      "Cell \u001b[0;32mIn[28], line 5\u001b[0m\n\u001b[1;32m      3\u001b[0m output \u001b[38;5;241m=\u001b[39m \u001b[38;5;28minput\u001b[39m\u001b[38;5;241m.\u001b[39mview(B\u001b[38;5;241m*\u001b[39mT, C)\n\u001b[1;32m      4\u001b[0m \u001b[38;5;28mprint\u001b[39m(output)\n\u001b[0;32m----> 5\u001b[0m \u001b[38;5;28mprint\u001b[39m(\u001b[43moutput\u001b[49m\u001b[43m[\u001b[49m\u001b[43m:\u001b[49m\u001b[43m,\u001b[49m\u001b[43m \u001b[49m\u001b[38;5;241;43m-\u001b[39;49m\u001b[38;5;241;43m1\u001b[39;49m\u001b[43m,\u001b[49m\u001b[43m \u001b[49m\u001b[43m:\u001b[49m\u001b[43m]\u001b[49m)\n",
      "\u001b[0;31mIndexError\u001b[0m: too many indices for tensor of dimension 2"
     ]
    }
   ],
   "source": [
    " input = torch.rand((4, 8, 10))\n",
    "B, T, C = input.shape\n",
    "output = input.view(B*T, C)\n",
    "print(output)\n",
    "print(output[:, -1, :])"
   ]
  },
  {
   "cell_type": "code",
   "execution_count": 31,
   "metadata": {},
   "outputs": [
    {
     "name": "stdout",
     "output_type": "stream",
     "text": [
      "tensor([0.7616])\n"
     ]
    }
   ],
   "source": [
    "x = torch.tensor([1], dtype=torch.float32)\n",
    "y = F.tanh(x)\n",
    "print(y)"
   ]
  },
  {
   "cell_type": "code",
   "execution_count": null,
   "metadata": {},
   "outputs": [],
   "source": []
  }
 ],
 "metadata": {
  "kernelspec": {
   "display_name": "cuda-gpt",
   "language": "python",
   "name": "cuda"
  },
  "language_info": {
   "codemirror_mode": {
    "name": "ipython",
    "version": 3
   },
   "file_extension": ".py",
   "mimetype": "text/x-python",
   "name": "python",
   "nbconvert_exporter": "python",
   "pygments_lexer": "ipython3",
   "version": "3.11.5"
  }
 },
 "nbformat": 4,
 "nbformat_minor": 4
}
