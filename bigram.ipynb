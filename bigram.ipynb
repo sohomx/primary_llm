{
 "cells": [
  {
   "cell_type": "code",
   "execution_count": 2,
   "metadata": {},
   "outputs": [
    {
     "name": "stdout",
     "output_type": "stream",
     "text": [
      "cpu\n"
     ]
    }
   ],
   "source": [
    "import torch \n",
    "import torch.nn as nn\n",
    "from torch.nn import functional as F\n",
    "\n",
    "device = 'cuda' if torch.cuda.is_available() else 'cpu'\n",
    "print(device)\n",
    "\n",
    "block_size = 8\n",
    "batch_size = 4\n",
    "max_iters = 1000\n",
    "learning_rate = 3e-3\n",
    "eval_iters = 250\n",
    "n_embd = 384\n",
    "n_layer = 4"
   ]
  },
  {
   "cell_type": "code",
   "execution_count": 3,
   "metadata": {},
   "outputs": [
    {
     "name": "stdout",
     "output_type": "stream",
     "text": [
      "['\\n', ' ', '!', '\"', '&', \"'\", '(', ')', '*', ',', '-', '.', '0', '1', '2', '3', '4', '5', '6', '7', '8', '9', ':', ';', '?', 'A', 'B', 'C', 'D', 'E', 'F', 'G', 'H', 'I', 'J', 'K', 'L', 'M', 'N', 'O', 'P', 'Q', 'R', 'S', 'T', 'U', 'V', 'W', 'X', 'Y', 'Z', '[', ']', '_', 'a', 'b', 'c', 'd', 'e', 'f', 'g', 'h', 'i', 'j', 'k', 'l', 'm', 'n', 'o', 'p', 'q', 'r', 's', 't', 'u', 'v', 'w', 'x', 'y', 'z', '\\ufeff']\n"
     ]
    }
   ],
   "source": [
    "with open('wizard_of_oz.txt', 'r', encoding='utf-8') as f:\n",
    "    text = f.read()\n",
    "chars = sorted(set(text))\n",
    "print(chars)\n",
    "vocab_size = len(chars)"
   ]
  },
  {
   "cell_type": "code",
   "execution_count": 4,
   "metadata": {},
   "outputs": [
    {
     "name": "stdout",
     "output_type": "stream",
     "text": [
      "tensor([80,  1, 28, 39, 42, 39, 44, 32, 49,  1, 25, 38, 28,  1, 44, 32, 29,  1,\n",
      "        47, 33, 50, 25, 42, 28,  1, 33, 38,  1, 39, 50,  0,  0,  1,  1, 26, 49,\n",
      "         0,  0,  1,  1, 36, 11,  1, 30, 42, 25, 38, 35,  1, 26, 25, 45, 37,  0,\n",
      "         0,  1,  1, 25, 45, 44, 32, 39, 42,  1, 39, 30,  1, 44, 32, 29,  1, 47,\n",
      "        33, 50, 25, 42, 28,  1, 39, 30,  1, 39, 50,  9,  1, 44, 32, 29,  1, 36,\n",
      "        25, 38, 28,  1, 39, 30,  1, 39, 50,  9])\n"
     ]
    }
   ],
   "source": [
    "string_to_int = { ch:i for i, ch in enumerate(chars) }\n",
    "int_to_string = { i:ch for i, ch in enumerate(chars) }\n",
    "encode = lambda s: [string_to_int[c] for c in s]\n",
    "decode = lambda l: ''.join([int_to_string[i] for i in l])\n",
    "\n",
    "data = torch.tensor(encode(text), dtype = torch.long)\n",
    "print(data[:100])"
   ]
  },
  {
   "cell_type": "code",
   "execution_count": 5,
   "metadata": {},
   "outputs": [
    {
     "ename": "NameError",
     "evalue": "name 'block_size' is not defined",
     "output_type": "error",
     "traceback": [
      "\u001b[0;31m---------------------------------------------------------------------------\u001b[0m",
      "\u001b[0;31mNameError\u001b[0m                                 Traceback (most recent call last)",
      "Cell \u001b[0;32mIn[5], line 13\u001b[0m\n\u001b[1;32m     10\u001b[0m     x, y \u001b[38;5;241m=\u001b[39m x\u001b[38;5;241m.\u001b[39mto(device), y\u001b[38;5;241m.\u001b[39mto(device)\n\u001b[1;32m     11\u001b[0m     \u001b[38;5;28;01mreturn\u001b[39;00m x, y\n\u001b[0;32m---> 13\u001b[0m x, y \u001b[38;5;241m=\u001b[39m \u001b[43mget_batch\u001b[49m\u001b[43m(\u001b[49m\u001b[38;5;124;43m'\u001b[39;49m\u001b[38;5;124;43mtrain\u001b[39;49m\u001b[38;5;124;43m'\u001b[39;49m\u001b[43m)\u001b[49m\n\u001b[1;32m     14\u001b[0m \u001b[38;5;28mprint\u001b[39m(\u001b[38;5;124m'\u001b[39m\u001b[38;5;124minputs: \u001b[39m\u001b[38;5;124m'\u001b[39m)\n\u001b[1;32m     15\u001b[0m \u001b[38;5;28mprint\u001b[39m(x)\n",
      "Cell \u001b[0;32mIn[5], line 7\u001b[0m, in \u001b[0;36mget_batch\u001b[0;34m(split)\u001b[0m\n\u001b[1;32m      5\u001b[0m \u001b[38;5;28;01mdef\u001b[39;00m \u001b[38;5;21mget_batch\u001b[39m(split):\n\u001b[1;32m      6\u001b[0m     data \u001b[38;5;241m=\u001b[39m train_data \u001b[38;5;28;01mif\u001b[39;00m split \u001b[38;5;241m==\u001b[39m \u001b[38;5;124m'\u001b[39m\u001b[38;5;124mtrain\u001b[39m\u001b[38;5;124m'\u001b[39m \u001b[38;5;28;01melse\u001b[39;00m val_data\n\u001b[0;32m----> 7\u001b[0m     ix \u001b[38;5;241m=\u001b[39m torch\u001b[38;5;241m.\u001b[39mrandint(\u001b[38;5;28mlen\u001b[39m(data) \u001b[38;5;241m-\u001b[39m \u001b[43mblock_size\u001b[49m, (batch_size,))\n\u001b[1;32m      8\u001b[0m     x \u001b[38;5;241m=\u001b[39m torch\u001b[38;5;241m.\u001b[39mstack([data[i:i\u001b[38;5;241m+\u001b[39mblock_size] \u001b[38;5;28;01mfor\u001b[39;00m i \u001b[38;5;129;01min\u001b[39;00m ix])\n\u001b[1;32m      9\u001b[0m     y \u001b[38;5;241m=\u001b[39m torch\u001b[38;5;241m.\u001b[39mstack([data[i\u001b[38;5;241m+\u001b[39m\u001b[38;5;241m1\u001b[39m:i\u001b[38;5;241m+\u001b[39mblock_size\u001b[38;5;241m+\u001b[39m\u001b[38;5;241m1\u001b[39m] \u001b[38;5;28;01mfor\u001b[39;00m i \u001b[38;5;129;01min\u001b[39;00m ix])\n",
      "\u001b[0;31mNameError\u001b[0m: name 'block_size' is not defined"
     ]
    }
   ],
   "source": [
    "n = int(0.8*len(data))\n",
    "train_data = data[:n]\n",
    "val_data = data[n: ]\n",
    "\n",
    "def get_batch(split):\n",
    "    data = train_data if split == 'train' else val_data\n",
    "    ix = torch.randint(len(data) - block_size, (batch_size,))\n",
    "    x = torch.stack([data[i:i+block_size] for i in ix])\n",
    "    y = torch.stack([data[i+1:i+block_size+1] for i in ix])\n",
    "    x, y = x.to(device), y.to(device)\n",
    "    return x, y\n",
    "\n",
    "x, y = get_batch('train')\n",
    "print('inputs: ')\n",
    "print(x)\n",
    "print('targets: ')\n",
    "print(y)"
   ]
  },
  {
   "cell_type": "code",
   "execution_count": null,
   "metadata": {},
   "outputs": [],
   "source": [
    "@torch.no_grad()\n",
    "def estimate_loss():\n",
    "    out = {}\n",
    "    model.eval()\n",
    "    for split in ['train', 'val']:\n",
    "        losses = torch.zeros(eval_iters)\n",
    "        for k in range(eval_iters):\n",
    "            X, Y = get_batch(split)\n",
    "            logits, loss = model(X, Y)\n",
    "            losses[k] = loss.item()\n",
    "        out[split] = losses.mean()\n",
    "    model.train()\n",
    "    return out\n",
    "    "
   ]
  },
  {
   "cell_type": "code",
   "execution_count": null,
   "metadata": {},
   "outputs": [],
   "source": [
    "x = train_data[:block_size]\n",
    "y = train_data[1:block_size + 1]\n",
    "\n",
    "for t in range(block_size):\n",
    "    context = x[:t+1]\n",
    "    target = y[t]\n",
    "    print('when input is', context, 'target is', target)"
   ]
  },
  {
   "cell_type": "code",
   "execution_count": null,
   "metadata": {},
   "outputs": [],
   "source": [
    "import torch\n",
    "import torch.nn as nn  # Corrected import statement\n",
    "\n",
    "class GPTLanguageModel(nn.Module):  # Corrected 'Module' capitalization\n",
    "    def __init__(self, vocab_size):\n",
    "        super().__init__()\n",
    "        self.token_embedding_table = nn.Embedding(vocab_size, n_embd)  # Fixed '==' to '='\n",
    "        self.position_embedding_table = nn.Embedding(block_size, n_embd)\n",
    "        self.blocks = nn.Sequential(*[Block(n_embd, n_head=n_head) for _ in range(n_layer)])\n",
    "\n",
    "        self.ln_f = nn.LayerNorm(n_embd) # final layer norm\n",
    "        self.lm_head = nn.Linear(n_embd, vocab_size)\n",
    "\n",
    "\n",
    "    def forward(self, index, targets=None):\n",
    "        logits = self.token_embedding_table(index)\n",
    "\n",
    "        # idx and targets are both (B, T) tensor of integers\n",
    "        tok_emb = self.token_embedding_table(idx) # (B, T, C)\\\n",
    "        pos_emb = self.position_embedding_table(torch.arange(T, device=device)) # (T,C)\n",
    "        x = tok_emb + pos_emb # (B, T, C)\n",
    "        x = self.blocks(x) # (B, T, C)\n",
    "        x = self.ln_f(x) # (B, T, C)\n",
    "        logits = self.lm_head(x) # (B, T, vocab_size)\n",
    "        \n",
    "\n",
    "        if targets is None: \n",
    "            loss = None\n",
    "        else:\n",
    "            B, T, C = logits.shape\n",
    "            logits = logits.view(B*T, C)\n",
    "            targets = targets.view(B*T)\n",
    "            loss = F.cross_entropy(logits, targets)\n",
    "            \n",
    "        return logits, loss\n",
    "\n",
    "    def generate(self, index, max_new_tokens):\n",
    "        # index if (B, T) array of indices in the current context\n",
    "        for _ in range(max_new_tokens):\n",
    "            # get the predictions\n",
    "            logits, loss = self.forward(index)\n",
    "            # focus only on the last time step\n",
    "            logits = logits[:, -1, :] # becomes (B, C)\n",
    "            # apply softmax to get probabilities\n",
    "            probs = F.softmax(logits, dim=-1) # (B, C)\n",
    "            # sample from the distribution\n",
    "            index_next = torch.multinomial(probs, num_samples=1) # (B, 1)\n",
    "            # append sampled index to the running sequence\n",
    "            index = torch.cat((index, index_next), dim=1) # (B, T+1)\n",
    "        return index\n",
    "\n",
    "model = BigramLanguageModel(vocab_size)\n",
    "m = model.to(device)\n",
    "\n",
    "context = torch.zeros((1,1), dtype=torch.long, device=device)\n",
    "generated_chars  = decode(m.generate(context, max_new_tokens = 500)[0].tolist())\n",
    "print(generated_chars)\n",
    "    \n",
    "        "
   ]
  },
  {
   "cell_type": "code",
   "execution_count": null,
   "metadata": {},
   "outputs": [],
   "source": [
    "# create a Pytorch optimizer\n",
    "optimizer = torch.optim.AdamW(model.parameters(), lr=learning_rate)\n",
    "\n",
    "for iter in range(max_iters):\n",
    "    if iter % eval_iters == 0:\n",
    "        losses = estimate_loss()\n",
    "        print(f\"step: {iter}, train loss: {losses['train']:.4f}, val loss: {losses['val']:.4f}\")\n",
    "\n",
    "    # sample a batch of data \n",
    "    xb, yb = get_batch('train')\n",
    "\n",
    "    # evaluate the loss\n",
    "    logits, loss = model.forward(xb, yb)\n",
    "    optimizer.zero_grad(set_to_none=True)\n",
    "    loss.backward()\n",
    "    optimizer.step()\n",
    "\n",
    "# After the training loop is complete, print the final loss\n",
    "print(\"Final Loss:\", loss.item())\n"
   ]
  },
  {
   "cell_type": "code",
   "execution_count": 6,
   "metadata": {},
   "outputs": [
    {
     "ename": "NameError",
     "evalue": "name 'm' is not defined",
     "output_type": "error",
     "traceback": [
      "\u001b[0;31m---------------------------------------------------------------------------\u001b[0m",
      "\u001b[0;31mNameError\u001b[0m                                 Traceback (most recent call last)",
      "Cell \u001b[0;32mIn[6], line 2\u001b[0m\n\u001b[1;32m      1\u001b[0m context \u001b[38;5;241m=\u001b[39m torch\u001b[38;5;241m.\u001b[39mzeros((\u001b[38;5;241m1\u001b[39m,\u001b[38;5;241m1\u001b[39m), dtype\u001b[38;5;241m=\u001b[39mtorch\u001b[38;5;241m.\u001b[39mlong, device\u001b[38;5;241m=\u001b[39mdevice)\n\u001b[0;32m----> 2\u001b[0m generated_chars \u001b[38;5;241m=\u001b[39m decode(\u001b[43mm\u001b[49m\u001b[38;5;241m.\u001b[39mgenerate(context, max_new_tokens \u001b[38;5;241m=\u001b[39m \u001b[38;5;241m500\u001b[39m)[\u001b[38;5;241m0\u001b[39m]\u001b[38;5;241m.\u001b[39mtolist())\n\u001b[1;32m      3\u001b[0m \u001b[38;5;28mprint\u001b[39m(generated_chars)\n",
      "\u001b[0;31mNameError\u001b[0m: name 'm' is not defined"
     ]
    }
   ],
   "source": [
    "context = torch.zeros((1,1), dtype=torch.long, device=device)\n",
    "generated_chars = decode(m.generate(context, max_new_tokens = 500)[0].tolist())\n",
    "print(generated_chars)"
   ]
  },
  {
   "cell_type": "code",
   "execution_count": 7,
   "metadata": {},
   "outputs": [
    {
     "name": "stdout",
     "output_type": "stream",
     "text": [
      "tensor([[4.1585e-01, 6.4232e-01, 4.1804e-01, 8.1157e-01, 8.7405e-01, 9.6891e-01,\n",
      "         3.9791e-01, 7.1246e-01, 3.2621e-01, 4.9453e-01],\n",
      "        [8.2490e-01, 7.2691e-01, 6.5771e-01, 1.3074e-01, 4.7555e-01, 7.6548e-02,\n",
      "         7.9424e-01, 9.9812e-01, 8.6576e-01, 9.9636e-01],\n",
      "        [5.9388e-01, 2.2625e-01, 8.6441e-01, 9.4852e-01, 4.3670e-01, 1.5300e-01,\n",
      "         7.1632e-01, 9.9799e-01, 9.0755e-02, 5.3773e-02],\n",
      "        [4.0162e-01, 7.4391e-01, 1.4794e-01, 7.2970e-01, 7.2759e-01, 3.1985e-01,\n",
      "         2.4014e-01, 6.4785e-01, 8.0389e-01, 6.6652e-02],\n",
      "        [8.2268e-01, 8.7517e-01, 4.2161e-01, 9.1501e-01, 9.7407e-01, 1.3589e-01,\n",
      "         4.0047e-01, 5.2062e-01, 1.9516e-01, 3.9184e-01],\n",
      "        [1.6935e-01, 8.6413e-01, 9.3374e-01, 6.8924e-01, 7.2355e-01, 7.1374e-01,\n",
      "         9.1490e-01, 2.6707e-01, 4.5671e-01, 6.5070e-01],\n",
      "        [7.1851e-01, 4.7585e-02, 5.3973e-01, 4.8694e-01, 4.8082e-01, 6.6144e-02,\n",
      "         4.6808e-01, 9.0070e-01, 3.6197e-01, 5.2468e-01],\n",
      "        [7.7106e-01, 4.6186e-01, 8.9631e-01, 8.2335e-01, 3.9206e-02, 6.6622e-01,\n",
      "         5.6536e-01, 4.4897e-01, 8.1120e-01, 1.8245e-01],\n",
      "        [6.1150e-01, 5.7563e-01, 3.9875e-01, 1.8884e-01, 7.6116e-01, 4.0498e-01,\n",
      "         2.8098e-02, 3.5174e-01, 2.3217e-01, 3.6891e-01],\n",
      "        [6.0319e-01, 8.2284e-01, 4.6823e-01, 8.2312e-01, 7.8343e-01, 4.4606e-02,\n",
      "         6.7735e-01, 9.9002e-01, 8.7023e-01, 3.5619e-01],\n",
      "        [7.5160e-01, 8.2437e-01, 2.2466e-01, 1.3801e-01, 9.6770e-01, 9.2321e-01,\n",
      "         5.1953e-01, 6.2595e-01, 8.6157e-01, 3.2788e-01],\n",
      "        [9.3370e-01, 2.9338e-01, 1.1842e-01, 9.0848e-01, 7.2995e-01, 2.8663e-01,\n",
      "         4.4402e-01, 4.0102e-01, 9.5880e-02, 2.3509e-01],\n",
      "        [3.6856e-01, 6.2076e-01, 7.8696e-01, 2.0563e-01, 3.7231e-01, 3.7346e-01,\n",
      "         7.5759e-01, 8.3131e-01, 3.9887e-01, 9.4622e-02],\n",
      "        [7.1888e-01, 4.7208e-01, 8.1643e-02, 4.4089e-02, 3.8243e-01, 9.9635e-01,\n",
      "         7.6382e-01, 8.2117e-01, 3.4662e-01, 2.4931e-01],\n",
      "        [5.6335e-01, 1.6311e-01, 8.2179e-01, 7.5157e-01, 7.1617e-01, 9.9937e-01,\n",
      "         8.6786e-01, 5.3706e-01, 4.4676e-01, 7.5788e-01],\n",
      "        [6.4731e-01, 1.3211e-01, 1.2666e-01, 5.3522e-01, 2.2347e-01, 6.3527e-01,\n",
      "         5.3373e-01, 1.6421e-01, 3.5409e-01, 6.9770e-02],\n",
      "        [2.9043e-01, 9.4013e-01, 8.5446e-01, 6.6483e-01, 2.4085e-01, 7.5422e-01,\n",
      "         9.2825e-01, 2.8731e-01, 1.9083e-01, 6.8013e-01],\n",
      "        [7.5606e-01, 6.2313e-01, 5.7321e-01, 4.5007e-01, 3.5985e-01, 6.5532e-01,\n",
      "         1.9251e-01, 7.3860e-01, 5.4804e-01, 5.1647e-01],\n",
      "        [9.2162e-01, 7.5817e-01, 5.3908e-01, 8.1880e-01, 5.0264e-01, 9.3125e-02,\n",
      "         9.5546e-01, 8.4991e-01, 3.8602e-02, 7.9026e-01],\n",
      "        [5.2768e-02, 1.3689e-01, 6.2149e-01, 7.1152e-02, 1.0110e-02, 5.6672e-01,\n",
      "         4.0834e-01, 1.4687e-01, 9.6211e-01, 9.3689e-01],\n",
      "        [6.0355e-01, 6.0532e-01, 2.7889e-04, 7.1111e-01, 5.9392e-01, 1.1380e-02,\n",
      "         3.0937e-01, 4.5363e-01, 5.1384e-01, 2.6896e-01],\n",
      "        [1.6554e-01, 9.9885e-01, 3.3539e-01, 2.7321e-01, 2.5129e-01, 9.9526e-01,\n",
      "         4.0731e-01, 2.4960e-02, 1.8185e-01, 7.7032e-01],\n",
      "        [4.3439e-01, 6.3175e-01, 3.7127e-01, 3.0327e-01, 2.7651e-01, 5.9256e-01,\n",
      "         5.0546e-01, 1.9544e-01, 9.7153e-01, 1.5823e-01],\n",
      "        [3.3207e-01, 1.9958e-01, 9.2450e-01, 5.3786e-01, 7.5947e-01, 1.9296e-01,\n",
      "         1.9822e-01, 7.9853e-01, 2.7244e-01, 5.8216e-01],\n",
      "        [4.2535e-01, 5.8393e-01, 8.2057e-01, 8.0976e-01, 9.2009e-01, 3.1342e-01,\n",
      "         8.4823e-01, 3.1261e-01, 1.0039e-01, 7.0076e-01],\n",
      "        [3.9669e-02, 9.8510e-01, 7.6361e-01, 5.6110e-01, 2.9908e-01, 2.0566e-02,\n",
      "         2.0021e-01, 5.7320e-01, 7.3533e-02, 9.6433e-01],\n",
      "        [8.7229e-01, 3.2401e-01, 9.9165e-01, 8.5877e-01, 7.9415e-01, 4.6127e-01,\n",
      "         6.1643e-01, 7.5953e-01, 3.7059e-02, 6.3414e-01],\n",
      "        [6.3599e-02, 7.2476e-01, 7.1368e-02, 7.4093e-01, 2.6955e-01, 5.5752e-01,\n",
      "         1.0199e-01, 9.0129e-01, 7.4328e-02, 7.2380e-01],\n",
      "        [7.8976e-01, 8.8003e-01, 8.1397e-01, 4.4794e-01, 1.1337e-01, 4.0166e-01,\n",
      "         3.7837e-01, 2.8113e-01, 6.6382e-01, 3.0001e-01],\n",
      "        [8.0655e-01, 3.4541e-01, 9.8341e-01, 5.5452e-02, 8.7821e-01, 8.7051e-01,\n",
      "         4.5828e-01, 8.5707e-01, 5.4900e-01, 4.8995e-01],\n",
      "        [1.7975e-01, 9.6956e-01, 4.5017e-01, 7.9942e-02, 5.8286e-01, 9.1390e-01,\n",
      "         2.7532e-01, 6.3349e-01, 4.8993e-01, 4.2628e-01],\n",
      "        [1.1588e-01, 9.5612e-02, 7.5850e-01, 2.4301e-01, 5.3247e-01, 6.2769e-01,\n",
      "         2.7007e-01, 1.2694e-01, 4.4459e-01, 1.9617e-01]])\n"
     ]
    },
    {
     "ename": "IndexError",
     "evalue": "too many indices for tensor of dimension 2",
     "output_type": "error",
     "traceback": [
      "\u001b[0;31m---------------------------------------------------------------------------\u001b[0m",
      "\u001b[0;31mIndexError\u001b[0m                                Traceback (most recent call last)",
      "Cell \u001b[0;32mIn[7], line 5\u001b[0m\n\u001b[1;32m      3\u001b[0m output \u001b[38;5;241m=\u001b[39m \u001b[38;5;28minput\u001b[39m\u001b[38;5;241m.\u001b[39mview(B\u001b[38;5;241m*\u001b[39mT, C)\n\u001b[1;32m      4\u001b[0m \u001b[38;5;28mprint\u001b[39m(output)\n\u001b[0;32m----> 5\u001b[0m \u001b[38;5;28mprint\u001b[39m(\u001b[43moutput\u001b[49m\u001b[43m[\u001b[49m\u001b[43m:\u001b[49m\u001b[43m,\u001b[49m\u001b[43m \u001b[49m\u001b[38;5;241;43m-\u001b[39;49m\u001b[38;5;241;43m1\u001b[39;49m\u001b[43m,\u001b[49m\u001b[43m \u001b[49m\u001b[43m:\u001b[49m\u001b[43m]\u001b[49m)\n",
      "\u001b[0;31mIndexError\u001b[0m: too many indices for tensor of dimension 2"
     ]
    }
   ],
   "source": [
    " input = torch.rand((4, 8, 10))\n",
    "B, T, C = input.shape\n",
    "output = input.view(B*T, C)\n",
    "print(output)\n",
    "print(output[:, -1, :])"
   ]
  },
  {
   "cell_type": "code",
   "execution_count": 8,
   "metadata": {},
   "outputs": [
    {
     "name": "stdout",
     "output_type": "stream",
     "text": [
      "tensor([0.7616])\n"
     ]
    }
   ],
   "source": [
    "x = torch.tensor([1], dtype=torch.float32)\n",
    "y = F.tanh(x)\n",
    "print(y)"
   ]
  },
  {
   "cell_type": "code",
   "execution_count": 10,
   "metadata": {},
   "outputs": [],
   "source": []
  },
  {
   "cell_type": "code",
   "execution_count": null,
   "metadata": {},
   "outputs": [],
   "source": []
  }
 ],
 "metadata": {
  "kernelspec": {
   "display_name": "cuda-gpt",
   "language": "python",
   "name": "cuda"
  },
  "language_info": {
   "codemirror_mode": {
    "name": "ipython",
    "version": 3
   },
   "file_extension": ".py",
   "mimetype": "text/x-python",
   "name": "python",
   "nbconvert_exporter": "python",
   "pygments_lexer": "ipython3",
   "version": "3.11.5"
  }
 },
 "nbformat": 4,
 "nbformat_minor": 4
}
